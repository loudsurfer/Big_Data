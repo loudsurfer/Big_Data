{
 "cells": [
  {
   "cell_type": "markdown",
   "metadata": {},
   "source": [
    "# Машинное обучение\n",
    "\n",
    "Практическое задание 1 посвящено изучению основных библиотек для анализа данных, а также линейных моделей и методов их обучения. Вы научитесь:\n",
    " * применять библиотеки NumPy и Pandas для осуществления желаемых преобразований;\n",
    " * подготавливать данные для обучения линейных моделей;\n",
    " * обучать линейную, Lasso и Ridge-регрессии при помощи модуля scikit-learn;\n",
    " * реализовывать обычный и стохастический градиентные спуски;\n",
    " * обучать линейную регрессию для произвольного функционала качества."
   ]
  },
  {
   "cell_type": "markdown",
   "metadata": {},
   "source": [
    "## Библиотеки для анализа данных\n",
    "\n",
    "### NumPy\n",
    "\n",
    "Во всех заданиях данного раздела запрещено использовать циклы  и list comprehensions. Под вектором и матрицей в данных заданиях понимается одномерный и двумерный numpy.array соответственно."
   ]
  },
  {
   "cell_type": "code",
   "execution_count": 24,
   "metadata": {},
   "outputs": [],
   "source": [
    "import numpy as np\n",
    "import math as m"
   ]
  },
  {
   "cell_type": "markdown",
   "metadata": {},
   "source": [
    "Реализуйте функцию, возвращающую максимальный элемент в векторе x среди элементов, перед которыми стоит нулевой. Для x = np.array([6, 2, 0, 3, 0, 0, 5, 7, 0]) ответом является 5. Если нулевых элементов нет, функция должна возвращать None.\n"
   ]
  },
  {
   "cell_type": "code",
   "execution_count": 25,
   "metadata": {},
   "outputs": [
    {
     "name": "stdout",
     "output_type": "stream",
     "text": [
      "5\n"
     ]
    }
   ],
   "source": [
    "def max_element(arr):\n",
    "    zero = arr==0;\n",
    "    print (arr[1:][zero[:-1]].max());\n",
    "newArray=np.array([6, 2, 0, 3, 0, 0, 5, 7, 0]);\n",
    "max_element(newArray);"
   ]
  },
  {
   "cell_type": "markdown",
   "metadata": {},
   "source": [
    "Реализуйте функцию, принимающую на вход матрицу и некоторое число и возвращающую ближайший к числу элемент матрицы. Например: для X = np.arange(0,10).reshape((2, 5)) и v = 3.6 ответом будет 4."
   ]
  },
  {
   "cell_type": "code",
   "execution_count": 26,
   "metadata": {},
   "outputs": [
    {
     "data": {
      "text/plain": [
       "4"
      ]
     },
     "execution_count": 26,
     "metadata": {},
     "output_type": "execute_result"
    }
   ],
   "source": [
    "def nearest_value(X, v):\n",
    "    # Your code here\n",
    "    deviations = np.abs(X - v)\n",
    "    return X[np.where(deviations == np.min(deviations))][0]\n",
    "x= np.arange(0,10).reshape((2, 5)) \n",
    "v=3.6\n",
    "nearest_value(x, v )"
   ]
  },
  {
   "cell_type": "markdown",
   "metadata": {},
   "source": [
    "Реализуйте функцию scale(X), которая принимает на вход матрицу и масштабирует каждый ее столбец (вычитает выборочное среднее и делит на стандартное отклонение). Убедитесь, что в функции не будет происходить деления на ноль. Протестируйте на случайной матрице (для её генерации можно использовать, например, функцию [numpy.random.randint](http://docs.scipy.org/doc/numpy/reference/generated/numpy.random.randint.html))."
   ]
  },
  {
   "cell_type": "code",
   "execution_count": 27,
   "metadata": {},
   "outputs": [
    {
     "name": "stdout",
     "output_type": "stream",
     "text": [
      "[[-1.         -1.09108945 -0.57735027]\n",
      " [-1.          0.21821789 -0.57735027]\n",
      " [ 1.          1.52752523 -0.57735027]\n",
      " [ 1.         -0.65465367  1.73205081]]\n",
      "[[-1.         -1.09108945  2.        ]\n",
      " [-1.          0.21821789  2.        ]\n",
      " [ 1.          1.52752523  2.        ]\n",
      " [ 1.         -0.65465367  2.        ]]\n"
     ]
    }
   ],
   "source": [
    "def scale(X): \n",
    "    eps = 0.0000001\n",
    "    e = np.mean(X, axis=0)\n",
    "    d = np.std(X, axis=0)\n",
    "    is_not_zero = np.abs(d) > eps\n",
    "    X[:, is_not_zero] = (X - e)[:, is_not_zero] / d[is_not_zero]\n",
    "    return X\n",
    "        \n",
    "X = scale(np.array([[1, 2, 0], [1, 5, 0], [2, 8, 0], [2, 3, 1]], dtype=float))\n",
    "print (X)\n",
    "X = scale(np.array([[1, 2, 2], [1, 5, 2], [2, 8, 2], [2, 3, 2]], dtype=float))\n",
    "print (X)"
   ]
  },
  {
   "cell_type": "markdown",
   "metadata": {},
   "source": [
    " Реализуйте функцию, которая для заданной матрицы находит:\n",
    " - определитель\n",
    " - след\n",
    " - наименьший и наибольший элементы\n",
    " - норму Фробениуса\n",
    " - собственные числа\n",
    " - обратную матрицу\n",
    "\n",
    "Для тестирования сгенерируйте матрицу с элементами из нормального распределения $\\mathcal{N}$(10,1)"
   ]
  },
  {
   "cell_type": "code",
   "execution_count": 28,
   "metadata": {},
   "outputs": [],
   "source": [
    "def get_stats(X):\n",
    "    det = np.linalg.det(X) # определитель \n",
    "    inv = np.linalg.inv(X) # обратная матрица\n",
    "    trace = np.trace(X) # след матрицы\n",
    "    maxEl = np.max(X) # наибольший элемент\n",
    "    minEl = np.min(X) # наименьший элемент\n",
    "    norm = np.linalg.norm(X) # норма Фробениуса\n",
    "    eig = np.linalg.eig(X) # собственные числа"
   ]
  },
  {
   "cell_type": "markdown",
   "metadata": {},
   "source": [
    "Повторите 100 раз следующий эксперимент: сгенерируйте две матрицы размера 10×10 из стандартного нормального распределения, перемножьте их (как матрицы) и найдите максимальный элемент. Какое среднее значение по экспериментам у максимальных элементов? 95-процентная квантиль?"
   ]
  },
  {
   "cell_type": "code",
   "execution_count": 29,
   "metadata": {},
   "outputs": [
    {
     "name": "stdout",
     "output_type": "stream",
     "text": [
      "8.396376871127618\n",
      "12.34097713328799\n"
     ]
    }
   ],
   "source": [
    "maxArr = np.zeros(100)\n",
    "\n",
    "for exp_num in range(100):\n",
    "    X1 = np.random.normal(0, 1, (10, 10))\n",
    "    X2 = np.random.normal(0, 1, (10, 10))\n",
    "    \n",
    "    Y = X1.dot(X2)\n",
    "    maxArr[exp_num] = np.max(Y)\n",
    "    \n",
    "print(np.mean(maxArr))\n",
    "print(np.quantile(maxArr, 0.95))"
   ]
  },
  {
   "cell_type": "markdown",
   "metadata": {},
   "source": [
    "### Pandas\n",
    "\n",
    "![](https://metrouk2.files.wordpress.com/2015/10/panda.jpg)\n",
    "\n",
    "#### Ответьте на вопросы о данных по авиарейсам в США за январь-апрель 2008 года.\n",
    "\n",
    "[Данные](https://www.dropbox.com/s/dvfitn93obn0rql/2008.csv?dl=0) и их [описание](http://stat-computing.org/dataexpo/2009/the-data.html)"
   ]
  },
  {
   "cell_type": "code",
   "execution_count": 30,
   "metadata": {},
   "outputs": [],
   "source": [
    "import pandas as pd\n",
    "%matplotlib inline"
   ]
  },
  {
   "cell_type": "markdown",
   "metadata": {},
   "source": [
    "Какая из причин отмены рейса (`CancellationCode`) была самой частой? (расшифровки кодов можно найти в описании данных)"
   ]
  },
  {
   "cell_type": "code",
   "execution_count": 31,
   "metadata": {},
   "outputs": [
    {
     "data": {
      "text/html": [
       "<div>\n",
       "<style scoped>\n",
       "    .dataframe tbody tr th:only-of-type {\n",
       "        vertical-align: middle;\n",
       "    }\n",
       "\n",
       "    .dataframe tbody tr th {\n",
       "        vertical-align: top;\n",
       "    }\n",
       "\n",
       "    .dataframe thead th {\n",
       "        text-align: right;\n",
       "    }\n",
       "</style>\n",
       "<table border=\"1\" class=\"dataframe\">\n",
       "  <thead>\n",
       "    <tr style=\"text-align: right;\">\n",
       "      <th></th>\n",
       "      <th>Cancelled</th>\n",
       "    </tr>\n",
       "    <tr>\n",
       "      <th>CancellationCode</th>\n",
       "      <th></th>\n",
       "    </tr>\n",
       "  </thead>\n",
       "  <tbody>\n",
       "    <tr>\n",
       "      <th>A</th>\n",
       "      <td>563</td>\n",
       "    </tr>\n",
       "    <tr>\n",
       "      <th>B</th>\n",
       "      <td>549</td>\n",
       "    </tr>\n",
       "    <tr>\n",
       "      <th>C</th>\n",
       "      <td>299</td>\n",
       "    </tr>\n",
       "  </tbody>\n",
       "</table>\n",
       "</div>"
      ],
      "text/plain": [
       "                  Cancelled\n",
       "CancellationCode           \n",
       "A                       563\n",
       "B                       549\n",
       "C                       299"
      ]
     },
     "execution_count": 31,
     "metadata": {},
     "output_type": "execute_result"
    }
   ],
   "source": [
    "dataframe = pd.read_csv(\"2008.csv\")\n",
    "\n",
    "cancel = dataframe[['CancellationCode', 'Cancelled']]\n",
    "cancel[cancel.Cancelled == 1].groupby('CancellationCode').count() #++"
   ]
  },
  {
   "cell_type": "markdown",
   "metadata": {},
   "source": [
    " Найдите среднее, минимальное и максимальное расстояние, пройденное самолетом."
   ]
  },
  {
   "cell_type": "code",
   "execution_count": 32,
   "metadata": {},
   "outputs": [],
   "source": [
    "dataframe = pd.read_csv(\"2008.csv\")\n",
    "\n",
    "maxDistance = dataframe[['Distance']].max()\n",
    "minDistance = dataframe[['Distance']].min()\n",
    "averageDistance = dataframe[['Distance']].mean()"
   ]
  },
  {
   "cell_type": "markdown",
   "metadata": {},
   "source": [
    " Не выглядит ли подозрительным минимальное пройденное расстояние? В какие дни и на каких рейсах оно было? Какое расстояние было пройдено этими же рейсами в другие дни?"
   ]
  },
  {
   "cell_type": "code",
   "execution_count": 33,
   "metadata": {},
   "outputs": [],
   "source": [
    "dataframe = pd.read_csv(\"2008.csv\")\n",
    "\n",
    "minDistance = dataframe[['Distance']].min()\n",
    "distanceFrame = dataframe[dataframe.Distance == int(minDistance)][['Year','Month','DayofMonth', 'DayOfWeek', 'FlightNum']]\n",
    "\n",
    "flightNumFrame = distanceFrame.merge(dataframe, on=[\"FlightNum\"])[['Year_y','Month_y','DayofMonth_y', 'DayOfWeek_y', 'FlightNum', 'Distance']]"
   ]
  },
  {
   "cell_type": "markdown",
   "metadata": {},
   "source": [
    "Из какого аэропорта было произведено больше всего вылетов? В каком городе он находится?"
   ]
  },
  {
   "cell_type": "code",
   "execution_count": 34,
   "metadata": {},
   "outputs": [
    {
     "data": {
      "text/html": [
       "<div>\n",
       "<style scoped>\n",
       "    .dataframe tbody tr th:only-of-type {\n",
       "        vertical-align: middle;\n",
       "    }\n",
       "\n",
       "    .dataframe tbody tr th {\n",
       "        vertical-align: top;\n",
       "    }\n",
       "\n",
       "    .dataframe thead th {\n",
       "        text-align: right;\n",
       "    }\n",
       "</style>\n",
       "<table border=\"1\" class=\"dataframe\">\n",
       "  <thead>\n",
       "    <tr style=\"text-align: right;\">\n",
       "      <th></th>\n",
       "      <th>iata</th>\n",
       "      <th>airport</th>\n",
       "      <th>city</th>\n",
       "      <th>state</th>\n",
       "      <th>country</th>\n",
       "      <th>lat</th>\n",
       "      <th>long</th>\n",
       "    </tr>\n",
       "  </thead>\n",
       "  <tbody>\n",
       "    <tr>\n",
       "      <th>880</th>\n",
       "      <td>ATL</td>\n",
       "      <td>William B Hartsfield-Atlanta Intl</td>\n",
       "      <td>Atlanta</td>\n",
       "      <td>GA</td>\n",
       "      <td>USA</td>\n",
       "      <td>33.640444</td>\n",
       "      <td>-84.426944</td>\n",
       "    </tr>\n",
       "  </tbody>\n",
       "</table>\n",
       "</div>"
      ],
      "text/plain": [
       "    iata                            airport     city state country        lat  \\\n",
       "880  ATL  William B Hartsfield-Atlanta Intl  Atlanta    GA     USA  33.640444   \n",
       "\n",
       "          long  \n",
       "880 -84.426944  "
      ]
     },
     "execution_count": 34,
     "metadata": {},
     "output_type": "execute_result"
    }
   ],
   "source": [
    "dataframe = pd.read_csv(\"2008.csv\")\n",
    "airportFrame = pd.read_csv(\"airports.csv\")\n",
    "\n",
    "dataframe.groupby('Origin').count()[['Year']].sort_values(by=['Year'], ascending=False)\n",
    "airportFrame[airportFrame.iata == 'ATL']"
   ]
  },
  {
   "cell_type": "markdown",
   "metadata": {},
   "source": [
    "Найдите для каждого аэропорта среднее время полета (`AirTime`) по всем вылетевшим из него рейсам. Какой аэропорт имеет наибольшее значение этого показателя?"
   ]
  },
  {
   "cell_type": "code",
   "execution_count": 35,
   "metadata": {},
   "outputs": [
    {
     "data": {
      "text/html": [
       "<div>\n",
       "<style scoped>\n",
       "    .dataframe tbody tr th:only-of-type {\n",
       "        vertical-align: middle;\n",
       "    }\n",
       "\n",
       "    .dataframe tbody tr th {\n",
       "        vertical-align: top;\n",
       "    }\n",
       "\n",
       "    .dataframe thead th {\n",
       "        text-align: right;\n",
       "    }\n",
       "</style>\n",
       "<table border=\"1\" class=\"dataframe\">\n",
       "  <thead>\n",
       "    <tr style=\"text-align: right;\">\n",
       "      <th></th>\n",
       "      <th>AirTime</th>\n",
       "    </tr>\n",
       "    <tr>\n",
       "      <th>Origin</th>\n",
       "      <th></th>\n",
       "    </tr>\n",
       "  </thead>\n",
       "  <tbody>\n",
       "    <tr>\n",
       "      <th>SJU</th>\n",
       "      <td>205.2</td>\n",
       "    </tr>\n",
       "  </tbody>\n",
       "</table>\n",
       "</div>"
      ],
      "text/plain": [
       "        AirTime\n",
       "Origin         \n",
       "SJU       205.2"
      ]
     },
     "execution_count": 35,
     "metadata": {},
     "output_type": "execute_result"
    }
   ],
   "source": [
    "import pandas as pd\n",
    "%matplotlib inline\n",
    "\n",
    "dataframe = pd.read_csv(\"2008.csv\")\n",
    "dataframe[['Origin','AirTime']].groupby('Origin').mean().sort_values(by=['AirTime'], ascending=False).head(1) # SJU"
   ]
  },
  {
   "cell_type": "markdown",
   "metadata": {},
   "source": [
    "Найдите аэропорт, у которого наибольшая доля задержанных (`DepDelay > 0`) рейсов. Исключите при этом из рассмотрения аэропорты, из которых было отправлено меньше 1000 рейсов (используйте функцию `filter` после `groupby`)."
   ]
  },
  {
   "cell_type": "code",
   "execution_count": 36,
   "metadata": {},
   "outputs": [
    {
     "data": {
      "text/html": [
       "<div>\n",
       "<style scoped>\n",
       "    .dataframe tbody tr th:only-of-type {\n",
       "        vertical-align: middle;\n",
       "    }\n",
       "\n",
       "    .dataframe tbody tr th {\n",
       "        vertical-align: top;\n",
       "    }\n",
       "\n",
       "    .dataframe thead th {\n",
       "        text-align: right;\n",
       "    }\n",
       "</style>\n",
       "<table border=\"1\" class=\"dataframe\">\n",
       "  <thead>\n",
       "    <tr style=\"text-align: right;\">\n",
       "      <th></th>\n",
       "      <th>DepDelay</th>\n",
       "    </tr>\n",
       "    <tr>\n",
       "      <th>Origin</th>\n",
       "      <th></th>\n",
       "    </tr>\n",
       "  </thead>\n",
       "  <tbody>\n",
       "    <tr>\n",
       "      <th>ATL</th>\n",
       "      <td>4079</td>\n",
       "    </tr>\n",
       "    <tr>\n",
       "      <th>ORD</th>\n",
       "      <td>3391</td>\n",
       "    </tr>\n",
       "    <tr>\n",
       "      <th>DFW</th>\n",
       "      <td>2730</td>\n",
       "    </tr>\n",
       "    <tr>\n",
       "      <th>DEN</th>\n",
       "      <td>2353</td>\n",
       "    </tr>\n",
       "    <tr>\n",
       "      <th>LAX</th>\n",
       "      <td>2064</td>\n",
       "    </tr>\n",
       "    <tr>\n",
       "      <th>PHX</th>\n",
       "      <td>2011</td>\n",
       "    </tr>\n",
       "    <tr>\n",
       "      <th>LAS</th>\n",
       "      <td>1773</td>\n",
       "    </tr>\n",
       "    <tr>\n",
       "      <th>IAH</th>\n",
       "      <td>1770</td>\n",
       "    </tr>\n",
       "    <tr>\n",
       "      <th>DTW</th>\n",
       "      <td>1588</td>\n",
       "    </tr>\n",
       "    <tr>\n",
       "      <th>SFO</th>\n",
       "      <td>1374</td>\n",
       "    </tr>\n",
       "    <tr>\n",
       "      <th>EWR</th>\n",
       "      <td>1343</td>\n",
       "    </tr>\n",
       "    <tr>\n",
       "      <th>MCO</th>\n",
       "      <td>1324</td>\n",
       "    </tr>\n",
       "    <tr>\n",
       "      <th>SLC</th>\n",
       "      <td>1313</td>\n",
       "    </tr>\n",
       "    <tr>\n",
       "      <th>MSP</th>\n",
       "      <td>1233</td>\n",
       "    </tr>\n",
       "    <tr>\n",
       "      <th>CLT</th>\n",
       "      <td>1229</td>\n",
       "    </tr>\n",
       "    <tr>\n",
       "      <th>JFK</th>\n",
       "      <td>1172</td>\n",
       "    </tr>\n",
       "    <tr>\n",
       "      <th>BOS</th>\n",
       "      <td>1128</td>\n",
       "    </tr>\n",
       "    <tr>\n",
       "      <th>SEA</th>\n",
       "      <td>1114</td>\n",
       "    </tr>\n",
       "    <tr>\n",
       "      <th>LGA</th>\n",
       "      <td>1114</td>\n",
       "    </tr>\n",
       "    <tr>\n",
       "      <th>BWI</th>\n",
       "      <td>1018</td>\n",
       "    </tr>\n",
       "    <tr>\n",
       "      <th>PHL</th>\n",
       "      <td>1007</td>\n",
       "    </tr>\n",
       "  </tbody>\n",
       "</table>\n",
       "</div>"
      ],
      "text/plain": [
       "        DepDelay\n",
       "Origin          \n",
       "ATL         4079\n",
       "ORD         3391\n",
       "DFW         2730\n",
       "DEN         2353\n",
       "LAX         2064\n",
       "PHX         2011\n",
       "LAS         1773\n",
       "IAH         1770\n",
       "DTW         1588\n",
       "SFO         1374\n",
       "EWR         1343\n",
       "MCO         1324\n",
       "SLC         1313\n",
       "MSP         1233\n",
       "CLT         1229\n",
       "JFK         1172\n",
       "BOS         1128\n",
       "SEA         1114\n",
       "LGA         1114\n",
       "BWI         1018\n",
       "PHL         1007"
      ]
     },
     "execution_count": 36,
     "metadata": {},
     "output_type": "execute_result"
    }
   ],
   "source": [
    "import pandas as pd\n",
    "%matplotlib inline\n",
    "\n",
    "dataframe = pd.read_csv(\"2008.csv\")\n",
    "groups = dataframe[['Origin', 'DepDelay']].groupby(by=['Origin']).count().sort_values(by=['DepDelay'], ascending=False)\n",
    "groups[groups.DepDelay > 1000]"
   ]
  },
  {
   "cell_type": "markdown",
   "metadata": {},
   "source": [
    "## Линейная регрессия\n",
    "\n",
    "В этой части мы разберемся с линейной регрессией, способами её обучения и измерением качества ее прогнозов. \n",
    "\n",
    "Будем рассматривать датасет из предыдущей части задания для предсказания времени задержки отправления рейса в минутах (DepDelay). Отметим, что под задержкой подразумевается не только опоздание рейса относительно планируемого времени вылета, но и отправление до планируемого времени.\n",
    "\n",
    "### Подготовка данных\n",
    "\n",
    "**12. (0.5 балла)** Считайте выборку из файла при помощи функции pd.read_csv и ответьте на следующие вопросы:\n",
    "   - Имеются ли в данных пропущенные значения? да\n",
    "   - Сколько всего пропущенных элементов в таблице \"объект-признак\"?\n",
    "   - Сколько объектов имеют хотя бы один пропуск? все\n",
    "   - Сколько признаков имеют хотя бы одно пропущенное значение?"
   ]
  },
  {
   "cell_type": "markdown",
   "metadata": {},
   "source": [
    "Как вы понимаете, также не имеет смысла рассматривать при решении поставленной задачи объекты с пропущенным значением целевой переменной. В связи с этим ответьте на следующие вопросы и выполните соответствующие действия:\n",
    "- Имеются ли пропущенные значения в целевой переменной?\n",
    "- Проанализируйте объекты с пропущенными значениями целевой переменной. Чем вызвано это явление? Что их объединяет? Можно ли в связи с этим, на ваш взгляд, исключить какие-то признаки из рассмотрения? Обоснуйте свою точку зрения.\n",
    "\n",
    "Исключите из выборки объекты **с пропущенным значением целевой переменной и со значением целевой переменной, равным 0**, а также при необходимости исключите признаки в соответствии с вашим ответом на последний вопрос из списка и выделите целевую переменную в отдельный вектор, исключив её из матрицы \"объект-признак\"."
   ]
  },
  {
   "cell_type": "code",
   "execution_count": 57,
   "metadata": {},
   "outputs": [],
   "source": [
    "import pandas as pd\n",
    "import numpy as np\n",
    "\n",
    "pd.set_option('display.max_columns', None)\n",
    "df = pd.read_csv(\"2008.csv\")\n",
    "\n",
    "#df[dataframe.DepDelay != 0].info()\n",
    "#df[dataframe.DepDelay != 0].isnull()\n",
    "#df[dataframe.DepDelay != 0].isnull().sum()"
   ]
  },
  {
   "cell_type": "code",
   "execution_count": 58,
   "metadata": {},
   "outputs": [],
   "source": [
    "df = df[np.isnan(df.DepTime)!= True]\n",
    "df = df[df.DepTime != 0]\n",
    "\n",
    "df = df[np.isnan(df.DepDelay)!= True]\n",
    "df = df[df.DepDelay != 0]\n",
    "df = df[np.isnan(df.CRSDepTime)!= True]\n",
    "df = df[df.CRSDepTime != 0]\n",
    "df = df[np.isnan(df.ArrTime)!= True]\n",
    "df = df[df.ArrTime != 0]\n",
    "df = df[np.isnan(df.CRSArrTime)!= True]\n",
    "df = df[df.CRSArrTime != 0]\n",
    "\n",
    "y = df[['DepDelay']]\n",
    "df.drop(['Cancelled', 'CancellationCode', 'Diverted', 'DepDelay'], axis='columns', inplace=True)"
   ]
  },
  {
   "cell_type": "markdown",
   "metadata": {},
   "source": [
    "**13. (0.5 балла)** Обратите внимание, что признаки DepTime, CRSDepTime, ArrTime, CRSArrTime приведены в формате hhmm, в связи с чем будет не вполне корректно рассматривать их как вещественные.\n",
    "\n",
    "Преобразуйте каждый признак FeatureName из указанных в пару новых признаков FeatureName\\_Hour, FeatureName\\_Minute, разделив каждое из значений на часы и минуты. Не забудьте при этом исключить исходный признак из выборки. В случае, если значение признака отсутствует, значения двух новых признаков, его заменяющих, также должны отсутствовать. \n",
    "\n",
    "Например, признак DepTime необходимо заменить на пару признаков DepTime_Hour, DepTime_Minute. При этом, например, значение 155 исходного признака будет преобразовано в значения 1 и 55 признаков DepTime_Hour, DepTime_Minute соответственно."
   ]
  },
  {
   "cell_type": "code",
   "execution_count": 59,
   "metadata": {},
   "outputs": [],
   "source": [
    "def to_hour(col):\n",
    "    s = []\n",
    "    for i in df[col]:\n",
    "        if np.isnan(i):\n",
    "            s.append(np.nan)\n",
    "        else:\n",
    "            if len(str(int(i))) > 2:\n",
    "                s.append(int(str(int(i))[0:len(str(int(i)))-2]))\n",
    "            else: s.append(0)\n",
    "    df['{}_Hour'.format(col)] = s\n",
    "    \n",
    "\n",
    "def to_minute(col):\n",
    "    s = []\n",
    "    for i in df[col]:\n",
    "        if np.isnan(i):\n",
    "            s.append(np.nan)\n",
    "        else:\n",
    "            s.append(int(str(int(i))[len(str(int(i)))-2:]))\n",
    "    df['{}_Minute'.format(col)] = s\n",
    "    \n",
    "\n",
    "to_hour('DepTime')\n",
    "to_minute('DepTime')\n",
    "\n",
    "to_hour('CRSDepTime')\n",
    "to_minute('CRSDepTime')\n",
    "\n",
    "to_hour('CRSArrTime')\n",
    "to_minute('CRSArrTime')\n",
    "\n",
    "to_hour('ArrTime')\n",
    "to_minute('ArrTime')\n",
    "\n",
    "df.drop(['DepTime', 'CRSDepTime', 'CRSArrTime', 'ArrTime'], axis='columns', inplace=True)"
   ]
  },
  {
   "cell_type": "markdown",
   "metadata": {},
   "source": [
    "**14. (0.5 балла)** Некоторые из признаков, отличных от целевой переменной, могут оказывать чересчур значимое влияние на прогноз, поскольку по своему смыслу содержат большую долю информации о значении целевой переменной. Изучите описание датасета и исключите признаки, сильно коррелирующие с ответами. Ваш выбор признаков для исключения из выборки обоснуйте. Кроме того, исключите признаки TailNum и Year."
   ]
  },
  {
   "cell_type": "code",
   "execution_count": 60,
   "metadata": {},
   "outputs": [],
   "source": [
    "#ArrDelay  - собственно логично,  позже вылетели, позже прилетим)\n",
    "#Фактическое время вылета и прибытия тоже не имеет для модели значения\n",
    "df.drop(['ArrDelay', 'Year', 'TailNum', 'CRSElapsedTime', 'ActualElapsedTime', 'AirTime'], axis='columns', inplace=True)\n",
    "df.drop(['CRSArrTime_Hour', 'CRSArrTime_Minute', 'ArrTime_Hour', 'ArrTime_Minute'], axis='columns', inplace=True)\n",
    "df.drop(['DepTime_Minute'], axis='columns', inplace=True)\n",
    "df.drop(['Month','DayofMonth','DayOfWeek', 'TaxiOut'], axis='columns', inplace=True)\n",
    "#df.corr()"
   ]
  },
  {
   "cell_type": "code",
   "execution_count": 61,
   "metadata": {},
   "outputs": [
    {
     "data": {
      "text/html": [
       "<div>\n",
       "<style scoped>\n",
       "    .dataframe tbody tr th:only-of-type {\n",
       "        vertical-align: middle;\n",
       "    }\n",
       "\n",
       "    .dataframe tbody tr th {\n",
       "        vertical-align: top;\n",
       "    }\n",
       "\n",
       "    .dataframe thead th {\n",
       "        text-align: right;\n",
       "    }\n",
       "</style>\n",
       "<table border=\"1\" class=\"dataframe\">\n",
       "  <thead>\n",
       "    <tr style=\"text-align: right;\">\n",
       "      <th></th>\n",
       "      <th>FlightNum</th>\n",
       "      <th>Distance</th>\n",
       "      <th>TaxiIn</th>\n",
       "      <th>CarrierDelay</th>\n",
       "      <th>WeatherDelay</th>\n",
       "      <th>NASDelay</th>\n",
       "      <th>SecurityDelay</th>\n",
       "      <th>LateAircraftDelay</th>\n",
       "      <th>DepTime_Hour</th>\n",
       "      <th>CRSDepTime_Hour</th>\n",
       "      <th>CRSDepTime_Minute</th>\n",
       "    </tr>\n",
       "  </thead>\n",
       "  <tbody>\n",
       "    <tr>\n",
       "      <th>FlightNum</th>\n",
       "      <td>1.000000</td>\n",
       "      <td>-0.350234</td>\n",
       "      <td>-0.005973</td>\n",
       "      <td>0.076525</td>\n",
       "      <td>0.060002</td>\n",
       "      <td>0.013833</td>\n",
       "      <td>0.009387</td>\n",
       "      <td>-0.022415</td>\n",
       "      <td>-0.003909</td>\n",
       "      <td>-0.011679</td>\n",
       "      <td>-0.002678</td>\n",
       "    </tr>\n",
       "    <tr>\n",
       "      <th>Distance</th>\n",
       "      <td>-0.350234</td>\n",
       "      <td>1.000000</td>\n",
       "      <td>0.072517</td>\n",
       "      <td>-0.000119</td>\n",
       "      <td>-0.024372</td>\n",
       "      <td>0.014192</td>\n",
       "      <td>0.006950</td>\n",
       "      <td>-0.037445</td>\n",
       "      <td>-0.016628</td>\n",
       "      <td>-0.011692</td>\n",
       "      <td>0.014938</td>\n",
       "    </tr>\n",
       "    <tr>\n",
       "      <th>TaxiIn</th>\n",
       "      <td>-0.005973</td>\n",
       "      <td>0.072517</td>\n",
       "      <td>1.000000</td>\n",
       "      <td>-0.058748</td>\n",
       "      <td>0.004943</td>\n",
       "      <td>0.221044</td>\n",
       "      <td>0.000476</td>\n",
       "      <td>-0.046780</td>\n",
       "      <td>-0.046532</td>\n",
       "      <td>-0.052721</td>\n",
       "      <td>-0.013244</td>\n",
       "    </tr>\n",
       "    <tr>\n",
       "      <th>CarrierDelay</th>\n",
       "      <td>0.076525</td>\n",
       "      <td>-0.000119</td>\n",
       "      <td>-0.058748</td>\n",
       "      <td>1.000000</td>\n",
       "      <td>-0.039276</td>\n",
       "      <td>-0.141216</td>\n",
       "      <td>-0.013359</td>\n",
       "      <td>-0.139685</td>\n",
       "      <td>-0.015873</td>\n",
       "      <td>-0.073943</td>\n",
       "      <td>-0.020738</td>\n",
       "    </tr>\n",
       "    <tr>\n",
       "      <th>WeatherDelay</th>\n",
       "      <td>0.060002</td>\n",
       "      <td>-0.024372</td>\n",
       "      <td>0.004943</td>\n",
       "      <td>-0.039276</td>\n",
       "      <td>1.000000</td>\n",
       "      <td>-0.015508</td>\n",
       "      <td>-0.006283</td>\n",
       "      <td>-0.039146</td>\n",
       "      <td>0.021972</td>\n",
       "      <td>0.007648</td>\n",
       "      <td>-0.006072</td>\n",
       "    </tr>\n",
       "    <tr>\n",
       "      <th>NASDelay</th>\n",
       "      <td>0.013833</td>\n",
       "      <td>0.014192</td>\n",
       "      <td>0.221044</td>\n",
       "      <td>-0.141216</td>\n",
       "      <td>-0.015508</td>\n",
       "      <td>1.000000</td>\n",
       "      <td>-0.012667</td>\n",
       "      <td>-0.142288</td>\n",
       "      <td>-0.004054</td>\n",
       "      <td>-0.039952</td>\n",
       "      <td>-0.010783</td>\n",
       "    </tr>\n",
       "    <tr>\n",
       "      <th>SecurityDelay</th>\n",
       "      <td>0.009387</td>\n",
       "      <td>0.006950</td>\n",
       "      <td>0.000476</td>\n",
       "      <td>-0.013359</td>\n",
       "      <td>-0.006283</td>\n",
       "      <td>-0.012667</td>\n",
       "      <td>1.000000</td>\n",
       "      <td>-0.013749</td>\n",
       "      <td>-0.007682</td>\n",
       "      <td>-0.012255</td>\n",
       "      <td>-0.011749</td>\n",
       "    </tr>\n",
       "    <tr>\n",
       "      <th>LateAircraftDelay</th>\n",
       "      <td>-0.022415</td>\n",
       "      <td>-0.037445</td>\n",
       "      <td>-0.046780</td>\n",
       "      <td>-0.139685</td>\n",
       "      <td>-0.039146</td>\n",
       "      <td>-0.142288</td>\n",
       "      <td>-0.013749</td>\n",
       "      <td>1.000000</td>\n",
       "      <td>0.205894</td>\n",
       "      <td>0.194631</td>\n",
       "      <td>0.029836</td>\n",
       "    </tr>\n",
       "    <tr>\n",
       "      <th>DepTime_Hour</th>\n",
       "      <td>-0.003909</td>\n",
       "      <td>-0.016628</td>\n",
       "      <td>-0.046532</td>\n",
       "      <td>-0.015873</td>\n",
       "      <td>0.021972</td>\n",
       "      <td>-0.004054</td>\n",
       "      <td>-0.007682</td>\n",
       "      <td>0.205894</td>\n",
       "      <td>1.000000</td>\n",
       "      <td>0.959687</td>\n",
       "      <td>0.088738</td>\n",
       "    </tr>\n",
       "    <tr>\n",
       "      <th>CRSDepTime_Hour</th>\n",
       "      <td>-0.011679</td>\n",
       "      <td>-0.011692</td>\n",
       "      <td>-0.052721</td>\n",
       "      <td>-0.073943</td>\n",
       "      <td>0.007648</td>\n",
       "      <td>-0.039952</td>\n",
       "      <td>-0.012255</td>\n",
       "      <td>0.194631</td>\n",
       "      <td>0.959687</td>\n",
       "      <td>1.000000</td>\n",
       "      <td>0.047894</td>\n",
       "    </tr>\n",
       "    <tr>\n",
       "      <th>CRSDepTime_Minute</th>\n",
       "      <td>-0.002678</td>\n",
       "      <td>0.014938</td>\n",
       "      <td>-0.013244</td>\n",
       "      <td>-0.020738</td>\n",
       "      <td>-0.006072</td>\n",
       "      <td>-0.010783</td>\n",
       "      <td>-0.011749</td>\n",
       "      <td>0.029836</td>\n",
       "      <td>0.088738</td>\n",
       "      <td>0.047894</td>\n",
       "      <td>1.000000</td>\n",
       "    </tr>\n",
       "  </tbody>\n",
       "</table>\n",
       "</div>"
      ],
      "text/plain": [
       "                   FlightNum  Distance    TaxiIn  CarrierDelay  WeatherDelay  \\\n",
       "FlightNum           1.000000 -0.350234 -0.005973      0.076525      0.060002   \n",
       "Distance           -0.350234  1.000000  0.072517     -0.000119     -0.024372   \n",
       "TaxiIn             -0.005973  0.072517  1.000000     -0.058748      0.004943   \n",
       "CarrierDelay        0.076525 -0.000119 -0.058748      1.000000     -0.039276   \n",
       "WeatherDelay        0.060002 -0.024372  0.004943     -0.039276      1.000000   \n",
       "NASDelay            0.013833  0.014192  0.221044     -0.141216     -0.015508   \n",
       "SecurityDelay       0.009387  0.006950  0.000476     -0.013359     -0.006283   \n",
       "LateAircraftDelay  -0.022415 -0.037445 -0.046780     -0.139685     -0.039146   \n",
       "DepTime_Hour       -0.003909 -0.016628 -0.046532     -0.015873      0.021972   \n",
       "CRSDepTime_Hour    -0.011679 -0.011692 -0.052721     -0.073943      0.007648   \n",
       "CRSDepTime_Minute  -0.002678  0.014938 -0.013244     -0.020738     -0.006072   \n",
       "\n",
       "                   NASDelay  SecurityDelay  LateAircraftDelay  DepTime_Hour  \\\n",
       "FlightNum          0.013833       0.009387          -0.022415     -0.003909   \n",
       "Distance           0.014192       0.006950          -0.037445     -0.016628   \n",
       "TaxiIn             0.221044       0.000476          -0.046780     -0.046532   \n",
       "CarrierDelay      -0.141216      -0.013359          -0.139685     -0.015873   \n",
       "WeatherDelay      -0.015508      -0.006283          -0.039146      0.021972   \n",
       "NASDelay           1.000000      -0.012667          -0.142288     -0.004054   \n",
       "SecurityDelay     -0.012667       1.000000          -0.013749     -0.007682   \n",
       "LateAircraftDelay -0.142288      -0.013749           1.000000      0.205894   \n",
       "DepTime_Hour      -0.004054      -0.007682           0.205894      1.000000   \n",
       "CRSDepTime_Hour   -0.039952      -0.012255           0.194631      0.959687   \n",
       "CRSDepTime_Minute -0.010783      -0.011749           0.029836      0.088738   \n",
       "\n",
       "                   CRSDepTime_Hour  CRSDepTime_Minute  \n",
       "FlightNum                -0.011679          -0.002678  \n",
       "Distance                 -0.011692           0.014938  \n",
       "TaxiIn                   -0.052721          -0.013244  \n",
       "CarrierDelay             -0.073943          -0.020738  \n",
       "WeatherDelay              0.007648          -0.006072  \n",
       "NASDelay                 -0.039952          -0.010783  \n",
       "SecurityDelay            -0.012255          -0.011749  \n",
       "LateAircraftDelay         0.194631           0.029836  \n",
       "DepTime_Hour              0.959687           0.088738  \n",
       "CRSDepTime_Hour           1.000000           0.047894  \n",
       "CRSDepTime_Minute         0.047894           1.000000  "
      ]
     },
     "execution_count": 61,
     "metadata": {},
     "output_type": "execute_result"
    }
   ],
   "source": [
    "df.corr()\n"
   ]
  },
  {
   "cell_type": "markdown",
   "metadata": {},
   "source": [
    "**15. (1 балл)** Приведем данные к виду, пригодному для обучения линейных моделей. Для этого вещественные признаки надо отмасштабировать, а категориальные — привести к числовому виду. Также надо устранить пропуски в данных."
   ]
  },
  {
   "cell_type": "markdown",
   "metadata": {},
   "source": [
    "В первую очередь поймем, зачем необходимо применять масштабирование. Следующие ячейки с кодом построят гистограммы для 3 вещественных признаков выборки."
   ]
  },
  {
   "cell_type": "code",
   "execution_count": 62,
   "metadata": {
    "scrolled": true
   },
   "outputs": [
    {
     "data": {
      "text/plain": [
       "<matplotlib.axes._subplots.AxesSubplot at 0x1c1bfd5e148>"
      ]
     },
     "execution_count": 62,
     "metadata": {},
     "output_type": "execute_result"
    },
    {
     "data": {
      "image/png": "[encoded data removed]",
      "text/plain": [
       "<Figure size 432x288 with 1 Axes>"
      ]
     },
     "metadata": {
      "needs_background": "light"
     },
     "output_type": "display_data"
    }
   ],
   "source": [
    "df['DepTime_Hour'].hist(bins=20)"
   ]
  },
  {
   "cell_type": "code",
   "execution_count": 63,
   "metadata": {},
   "outputs": [
    {
     "data": {
      "text/plain": [
       "<matplotlib.axes._subplots.AxesSubplot at 0x1c1bfc61fc8>"
      ]
     },
     "execution_count": 63,
     "metadata": {},
     "output_type": "execute_result"
    },
    {
     "data": {
      "image/png": "[encoded data removed]",
      "text/plain": [
       "<Figure size 432x288 with 1 Axes>"
      ]
     },
     "metadata": {
      "needs_background": "light"
     },
     "output_type": "display_data"
    }
   ],
   "source": [
    "df['TaxiIn'].hist(bins=20)"
   ]
  },
  {
   "cell_type": "code",
   "execution_count": 64,
   "metadata": {},
   "outputs": [
    {
     "data": {
      "text/plain": [
       "<matplotlib.axes._subplots.AxesSubplot at 0x1c1bf06bf08>"
      ]
     },
     "execution_count": 64,
     "metadata": {},
     "output_type": "execute_result"
    },
    {
     "data": {
      "image/png": "[encoded data removed]",
      "text/plain": [
       "<Figure size 432x288 with 1 Axes>"
      ]
     },
     "metadata": {
      "needs_background": "light"
     },
     "output_type": "display_data"
    }
   ],
   "source": [
    "df['FlightNum'].hist(bins=20)"
   ]
  },
  {
   "cell_type": "markdown",
   "metadata": {},
   "source": [
    "Какую проблему вы наблюдаете на этих графиках? Как масштабирование поможет её исправить?"
   ]
  },
  {
   "cell_type": "raw",
   "metadata": {},
   "source": [
    "#Эти признаки измеряются в разных единицах, для приведения к общему диапазону значений и применяется масштабирование(или нормализация)"
   ]
  },
  {
   "cell_type": "markdown",
   "metadata": {},
   "source": [
    "Некоторые из признаков в нашем датасете являются категориальными. Типичным подходом к работе с ними является бинарное, или [one-hot-кодирование](https://en.wikipedia.org/wiki/One-hot).\n",
    "\n",
    "Реализуйте функцию transform_data, которая принимает на вход DataFrame с признаками и выполняет следующие шаги:\n",
    "1. Замена пропущенных значений на нули для вещественных признаков и на строки 'nan' для категориальных.\n",
    "2. Масштабирование вещественных признаков с помощью [StandardScaler](http://scikit-learn.org/stable/modules/generated/sklearn.preprocessing.StandardScaler.html).\n",
    "3. One-hot-кодирование категориальных признаков с помощью [DictVectorizer](http://scikit-learn.org/stable/modules/generated/sklearn.feature_extraction.DictVectorizer.html) или функции [pd.get_dummies](http://pandas.pydata.org/pandas-docs/stable/generated/pandas.get_dummies.html).\n",
    "\n",
    "Метод должен возвращать преобразованный DataFrame, который должна состоять из масштабированных вещественных признаков и закодированных категориальных (исходные признаки должны быть исключены из выборки)."
   ]
  },
  {
   "cell_type": "code",
   "execution_count": 65,
   "metadata": {},
   "outputs": [],
   "source": [
    "from sklearn.preprocessing import StandardScaler\n",
    "    \n",
    "def missing_data_fill(df):\n",
    "    for i in df.columns:\n",
    "        if df[i].dtype == 'object':\n",
    "            df[i] = df[i].fillna('nan')\n",
    "        else:\n",
    "            df[i] = df[i].fillna(0)\n",
    "                        \n",
    "def transform_data(df):\n",
    "    data = df\n",
    "    missing_data_fill(data)\n",
    "    data = pd.get_dummies(data)\n",
    "    scaler = StandardScaler()\n",
    "    data = scaler.fit_transform(data)\n",
    "    data = pd.DataFrame(data)\n",
    "    return data"
   ]
  },
  {
   "cell_type": "markdown",
   "metadata": {},
   "source": [
    "Примените функцию transform_data к данным. Сколько признаков получилось после преобразования?"
   ]
  },
  {
   "cell_type": "code",
   "execution_count": 66,
   "metadata": {},
   "outputs": [
    {
     "data": {
      "text/plain": [
       "(63264, 625)"
      ]
     },
     "execution_count": 66,
     "metadata": {},
     "output_type": "execute_result"
    }
   ],
   "source": [
    "data = transform_data(df)\n",
    "data.shape"
   ]
  },
  {
   "cell_type": "markdown",
   "metadata": {},
   "source": [
    "**16. (0.5 балла)** Разбейте выборку и вектор целевой переменной на обучение и контроль в отношении 70/30 (для этого можно использовать, например, функцию [train_test_split](http://scikit-learn.org/stable/modules/generated/sklearn.cross_validation.train_test_split.html)). "
   ]
  },
  {
   "cell_type": "code",
   "execution_count": 67,
   "metadata": {},
   "outputs": [],
   "source": [
    "from sklearn.model_selection import train_test_split\n",
    "\n",
    "X = data\n",
    "X_train, X_test, y_train, y_test = train_test_split(X, y, test_size=0.3,random_state=0)"
   ]
  },
  {
   "cell_type": "markdown",
   "metadata": {},
   "source": [
    "### Scikit-learn\n",
    "\n",
    "<img src = \"https://pp.vk.me/c4534/u35727827/93547647/x_d31c4463.jpg\">\n",
    "Теперь, когда мы привели данные к пригодному виду, попробуем решить задачу при помощи метода наименьших квадратов. Напомним, что данный метод заключается в оптимизации функционала $MSE$:\n",
    "\n",
    "$$MSE(X, y) = \\frac{1}{l} \\sum_{i=1}^l (<w, x_i> - y_i)^2 \\to \\min_{w},$$\n",
    "\n",
    "где $\\{ (x_i, y_i ) \\}_{i=1}^l$ — обучающая выборка, состоящая из $l$ пар объект-ответ.\n",
    "\n",
    "Заметим, что решение данной задачи уже реализовано в модуле sklearn в виде класса [LinearRegression](http://scikit-learn.org/stable/modules/generated/sklearn.linear_model.LinearRegression.html#sklearn.linear_model.LinearRegression).\n",
    "\n",
    "**17. (0.5 балла)** Обучите линейную регрессию на 1000 объектах из обучающей выборки и выведите значения $MSE$ и $R^2$ на этой подвыборке и контрольной выборке (итого 4 различных числа). Проинтерпретируйте полученный результат — насколько качественные прогнозы строит полученная модель? Какие проблемы наблюдаются в модели?\n",
    "\n",
    "**Подсказка**: изучите значения полученных коэффициентов $w$, сохраненных в атрибуте coef_ объекта LinearRegression."
   ]
  },
  {
   "cell_type": "code",
   "execution_count": 68,
   "metadata": {},
   "outputs": [
    {
     "name": "stdout",
     "output_type": "stream",
     "text": [
      "Правильность на обучающем наборе: -178839128062184260632576.00\n",
      "Правильность на тестовом наборе: -160065269828678523551744.00\n",
      "Среднеквадратическая ошибка на обучающем наборе: 2.3862491604869425e+26\n",
      "Среднеквадратическая ошибка на тестовом наборе: 1.8714705201972393e+26\n"
     ]
    }
   ],
   "source": [
    "from sklearn.linear_model import LinearRegression\n",
    "from sklearn.model_selection import train_test_split\n",
    "from sklearn.metrics import mean_squared_error \n",
    "\n",
    "X_train, X_test, y_train, y_test = train_test_split(X, y, random_state=0)\n",
    "X_train\n",
    "lr = LinearRegression().fit(X_train.head(1000), y_train.head(1000))\n",
    "print(\"Правильность на обучающем наборе: {:.2f}\".format(lr.score(X_train, y_train)))\n",
    "print(\"Правильность на тестовом наборе: {:.2f}\".format(lr.score(X_test, y_test)))\n",
    "\n",
    "train_predict = lr.predict(X_train)\n",
    "trainMSE = mean_squared_error(y_train, train_predict)\n",
    "\n",
    "test_predict = lr.predict(X_test)\n",
    "testMSE = mean_squared_error(y_test, test_predict)\n",
    "\n",
    "print(\"Среднеквадратическая ошибка на обучающем наборе:\", trainMSE)\n",
    "print(\"Среднеквадратическая ошибка на тестовом наборе:\", testMSE)"
   ]
  },
  {
   "cell_type": "markdown",
   "metadata": {
    "collapsed": true
   },
   "source": [
    "Для решения описанных вами в предыдущем пункте проблем используем L1- или L2-регуляризацию, тем самым получив Lasso и Ridge регрессии соответственно и изменив оптимизационную задачу одним из следующих образов:\n",
    "$$MSE_{L1}(X, y) = \\frac{1}{l} \\sum_{i=1}^l (<w, x_i> - y_i)^2 + \\alpha ||w||_1 \\to \\min_{w},$$\n",
    "$$MSE_{L2}(X, y) = \\frac{1}{l} \\sum_{i=1}^l (<w, x_i> - y_i)^2 + \\alpha ||w||_2^2 \\to \\min_{w},$$\n",
    "\n",
    "где $\\alpha$ — коэффициент регуляризации. Один из способов его подбора заключается в переборе некоторого количества значений и оценке качества на кросс-валидации для каждого из них, после чего выбирается значение, для которого было получено наилучшее качество.\n",
    "\n",
    "**18. (0.5 балла)** Обучите линейные регрессии с L1- и L2-регуляризатором, подобрав лучшее значение параметра регуляризации из списка alpha_grid при помощи кросс-валидации c 5 фолдами на тех же 1000 объектах, что и в п.17. Выведите значения $MSE$ и $R^2$ на обучающей и контрольной выборках. Удалось ли решить указанные вами ранее проблемы?\n",
    "\n",
    "Для выполнения данного задания вам могут понадобиться реализованные в библиотеке объекты [LassoCV](http://scikit-learn.org/stable/modules/generated/sklearn.linear_model.LassoCV.html), [RidgeCV](http://scikit-learn.org/stable/modules/generated/sklearn.linear_model.RidgeCV.html) и [KFold](http://scikit-learn.org/stable/modules/generated/sklearn.cross_validation.KFold.html).\n"
   ]
  },
  {
   "cell_type": "code",
   "execution_count": 69,
   "metadata": {},
   "outputs": [
    {
     "name": "stdout",
     "output_type": "stream",
     "text": [
      "Правильность на обучающем наборе: 0.89\n",
      "Правильность на тестовом наборе: 0.88\n",
      "Правильность на обучающем наборе: 0.89\n",
      "[[-2.67544174e-01  2.92696312e-01 -9.06146423e-01  2.06299348e+01\n",
      "   8.77719282e+00  7.49412069e+00  8.64383257e-01  2.09481605e+01\n",
      "   1.88252831e+00 -1.94933292e-01 -1.26233261e-01  9.11952725e+10\n",
      "   1.31651489e+11  1.59653014e+10  6.99465396e+10  7.97918288e+10\n",
      "   9.55751584e+10  1.17232915e+11  9.36813902e+10  5.63865873e+10\n",
      "   8.98588457e+10  4.44749694e+10  1.19755471e+11  1.04416116e+11\n",
      "   6.42550412e+10  1.27555904e+11  1.17722661e+11  1.18299128e+11\n",
      "   1.76150674e+11  1.04924511e+11  8.25800429e+10  1.00029664e+12\n",
      "   1.67971808e+10  6.22612093e+10  8.55405821e+09 -4.62106613e+12\n",
      "  -1.65213437e+12 -1.29053132e+12 -1.02875684e+12  1.33628339e+12\n",
      "   7.91958162e+09  1.85691011e+10 -5.07943316e+11  2.13256227e+12\n",
      "  -2.35286102e+11 -2.65241879e+11  2.72290536e+10  4.61063722e+10\n",
      "   2.16819807e+10  1.92496212e+11  3.20919729e+12  7.06419137e+10\n",
      "   2.01857834e+10 -1.86636829e+12  1.64833174e+10  5.18286257e+10\n",
      "  -2.29376786e+12  2.19213945e+10  9.69923697e+09 -3.53542005e+11\n",
      "   4.72191666e+10  2.09472804e+10 -2.08880446e+11 -2.75673821e+12\n",
      "  -1.52701509e+11  7.18696919e+10  3.95528122e+10  1.03312651e+11\n",
      "   6.95219828e+11  1.44575116e+10  4.34861152e+11 -6.04124728e+11\n",
      "   6.77416039e+11  2.87203300e+10  2.48239341e+10  4.95783022e+10\n",
      "   5.26226948e+10  9.77196047e+10  2.07863819e+12  3.13247959e+10\n",
      "   6.43963595e+11  1.97080367e+12  7.88803030e+11  2.26720584e+12\n",
      "   2.14398859e+10 -8.91262935e+11  3.66858709e+10 -1.51739076e+12\n",
      "   5.97452807e+11 -1.42818151e+12  7.63093475e+10 -6.45650469e+11\n",
      "   1.07386054e+11  5.63310330e+10 -6.02751645e+11 -1.48023401e+11\n",
      "   5.86480062e+11  3.83506083e+10  2.92017828e+11  2.16819807e+10\n",
      "   5.16191811e+11  1.87281071e+11  8.10668852e+10  1.41348681e+12\n",
      "  -6.38416160e+11  7.25110097e+10  3.84860583e+10  1.25210672e+10\n",
      "   9.11516089e+10  1.48472054e+11  1.59769296e+11 -1.65104491e+12\n",
      "  -3.78318843e+11  1.99254683e+10  3.59693025e+10  1.23005341e+11\n",
      "   1.67092384e+12 -6.66970369e+11 -6.22542429e+10  4.11005804e+10\n",
      "  -2.43141962e+12  2.33061385e+10 -2.00500056e+12  4.64078415e+10\n",
      "   1.14151143e+11 -3.37274401e+12  2.11950182e+10 -1.55650283e+12\n",
      "   3.66858709e+10  1.64833174e+10  1.96592929e+11  7.83097192e+11\n",
      "   7.95353920e+10  7.86070598e+10  5.16192323e+11  2.28539106e+10\n",
      "  -1.16400049e+10  2.52407729e+10  1.16566635e+10  3.94210614e+10\n",
      "  -1.18540857e+12  8.80844123e+11 -3.04445347e+12  3.59850691e+12\n",
      "   2.77977038e+10  3.04815126e+10 -3.05622288e+12  4.05912808e+10\n",
      "   3.71091174e+10 -9.88838554e+11 -3.38275764e+11  1.55035862e+10\n",
      "  -1.09576028e+12  1.67356070e+12  1.67971808e+10 -6.56638960e+11\n",
      "   8.92993109e+11  7.04960188e+10  7.23690017e+10 -1.23940088e+12\n",
      "   1.91232219e+10  2.92598770e+10  6.39091485e+11  8.57885806e+10\n",
      "   1.28422535e+11  3.43398365e+10 -1.47286255e+12  2.19213945e+10\n",
      "   6.51779137e+10  2.26963398e+12  1.02238126e+10  1.97133409e+11\n",
      "   1.89577562e+11 -1.95710593e+12 -1.03140465e+12 -7.59494479e+11\n",
      "   3.61137628e+10  5.40796307e+10  1.04624981e+11 -4.05099723e+11\n",
      "   3.59693025e+10  1.58369096e+10  1.64833174e+10  1.29651815e+11\n",
      "   1.77053632e+10  1.39298723e+11 -8.35855711e+11  1.79513164e+11\n",
      "  -1.11144340e+12  1.18843566e+12  1.02378371e+11  3.88895521e+10\n",
      "   3.72101225e+11  4.18527925e+10  5.42334837e+10  1.51629263e+10\n",
      "  -6.44025430e+11  9.77588392e+10 -2.74900604e+11 -1.74828188e+12\n",
      "   3.03936351e+11  1.99690334e+12 -2.87911239e+11  7.44697607e+10\n",
      "   5.92356976e+11  1.12868780e+11 -1.22031634e+12  8.99699392e+10\n",
      "   7.91958162e+09  8.77891486e+10  2.16819807e+10  6.80977314e+11\n",
      "   4.98428084e+11  4.11005804e+10  7.65779868e+10  6.07490447e+10\n",
      "  -4.35112227e+11  1.44575116e+10  2.89013039e+10  4.27355583e+11\n",
      "   2.43999481e+10  1.74079105e+10  9.26200604e+11  8.17088879e+11\n",
      "   2.74199200e+10  1.07772886e+12 -9.72220815e+11  1.09338762e+11\n",
      "   5.70613932e+10  2.26472122e+11  2.37497291e+10  1.07227404e+10\n",
      "   7.56334219e+10  4.31974842e+10  5.07161437e+10  5.21278429e+10\n",
      "  -4.63047822e+11  5.58696136e+10  1.77980305e+11  3.82146740e+10\n",
      "  -1.90596097e+11 -2.06930455e+12 -1.84587972e+12  5.32103403e+10\n",
      "   7.55654848e+10  6.12928481e+11 -7.74756351e+11  9.78752440e+10\n",
      "   1.34480695e+11  1.49250395e+12  1.55035862e+10  6.14258214e+10\n",
      "   3.03355939e+11  3.41315413e+11  3.26284849e+10  1.58257437e+12\n",
      "   9.14460060e+09  5.17547706e+11  3.52380486e+10  4.49656800e+10\n",
      "   1.06497429e+12  3.60300855e+11  3.48179303e+11  7.43527085e+11\n",
      "   7.33570953e+10  4.48915592e+11 -8.77763531e+10  4.19768369e+10\n",
      "   8.56256549e+11  4.91579113e+10 -1.22772698e+12  3.65436903e+10\n",
      "  -6.82474235e+10  1.61633503e+10  4.98912360e+10  9.55655733e+10\n",
      "   6.32487669e+10 -2.21482031e+11  3.18199782e+10  2.28539106e+10\n",
      "   2.66482158e+10 -1.91243848e+12  8.55405821e+09  4.37949101e+10\n",
      "   1.02920374e+11  1.15461472e+11  1.16041485e+12  1.64833174e+10\n",
      "   1.00740279e+12 -1.83122871e+12  7.42624492e+10  8.26736143e+11\n",
      "   4.40315846e+10  1.11209382e+11 -4.19901867e+11  6.87953032e+10\n",
      "   6.01390328e+10  6.57296442e+10  3.44949884e+11 -1.51377184e+11\n",
      "   2.70368336e+10  7.78408999e+10  4.15564766e+11 -1.32094003e+12\n",
      "  -1.81887414e+11 -4.96103492e+11  1.55408151e+12 -1.94683233e+11\n",
      "  -1.09473028e+12  2.56508130e+10  4.73157176e+11  8.80793345e+10\n",
      "   1.29316004e+10  4.77657133e+10  4.74385513e+10  1.12191796e+11\n",
      "  -1.28262763e+10  3.41061538e+09 -6.32981088e+09  2.48109292e+10\n",
      "  -5.75441214e+09  2.60543754e+10  8.55405821e+09  3.62576430e+10\n",
      "  -5.75775018e+09  9.18706775e+00 -8.60911846e+00  8.43206359e+09\n",
      "  -5.12695312e-03  2.54748063e+10 -2.87887515e+09  1.33363746e+09\n",
      "   1.15155006e+10 -2.66075134e-04 -3.10649553e+09 -3.10649553e+09\n",
      "   7.80957470e+09  6.11052847e+09  5.65738425e+09 -2.87887515e+09\n",
      "   1.54217332e+10  5.75775030e+09  1.76180865e+10  9.23627846e+09\n",
      "   8.06106228e+10  8.74234218e+09  2.68840356e+10  5.75775030e+09\n",
      "  -5.75775030e+09  0.00000000e+00  2.22667600e+10 -6.21299106e+09\n",
      "   8.21868896e+09  2.87887515e+09  5.75775030e+09  2.30310012e+10\n",
      "  -5.75775030e+09  6.39478835e+09 -3.10649553e+09 -3.10649553e+09\n",
      "  -1.15155006e+10  3.01708599e+10  1.15155006e+10  4.34326606e+10\n",
      "   0.00000000e+00  2.87887515e+09  5.16458410e+09  0.00000000e+00\n",
      "   2.87887515e+09  2.87887515e+09  1.22873642e+10  1.16955897e+10\n",
      "   1.91102602e+10  2.34612584e+10  4.09647758e+10  0.00000000e+00\n",
      "   2.30310012e+10  1.18463193e+10  2.87887515e+09  2.87887515e+09\n",
      "  -2.87887515e+09  7.88778513e+09  2.75550424e+09  1.52484870e+10\n",
      "  -5.75775030e+09  1.20688671e+10  0.00000000e+00  3.30708203e+10\n",
      "   0.00000000e+00  4.40801274e+10  2.45250845e+10  7.05544002e+09\n",
      "   0.00000000e+00 -5.75775030e+09  1.53064555e+10  6.79889963e+09\n",
      "   7.30295875e+09 -1.59966187e+10  0.00000000e+00  3.56545083e+10\n",
      "   5.75775030e+09  5.75775030e+09  2.96442038e+10  1.63685715e+10\n",
      "   2.87887515e+09  3.57518583e+10  6.19522231e+10  6.59994776e+10\n",
      "   2.87887515e+09 -2.87887515e+09  6.11052847e+09  5.75775030e+09\n",
      "   1.66367082e+10  5.19888627e+10  7.54234409e+09 -6.21299106e+09\n",
      "   0.00000000e+00  1.85946570e+10  4.42282545e+09  1.06637859e+10\n",
      "   1.04111009e+10  2.87887515e+09  4.65368062e+10  0.00000000e+00\n",
      "   5.75775030e+09  5.75775030e+09  1.58744044e+10  5.75775030e+09\n",
      "   7.30295875e+09  4.61945400e+09  3.25391138e+10  0.00000000e+00\n",
      "   1.08289545e+10  8.53674622e+09  7.18026798e+09  9.88629801e+09\n",
      "   7.80957470e+09  1.54790475e+10 -3.10649553e+09  0.00000000e+00\n",
      "   0.00000000e+00  0.00000000e+00  1.14657622e+10  1.15428823e+10\n",
      "   5.75775030e+09  1.65299806e+10  1.45955196e+10  1.29205874e+10\n",
      "  -2.87887515e+09  1.15155006e+10  0.00000000e+00 -5.75775030e+09\n",
      "   2.87887515e+09  2.30989132e+09  5.96331232e+09  2.95258515e+10\n",
      "   2.89870950e+10  1.32592433e+10  8.21868896e+09  1.36544800e+10\n",
      "  -2.87887515e+09  3.42612000e+10  5.38857521e+10  1.42266287e+10\n",
      "   0.00000000e+00  0.00000000e+00  2.50923208e+10  1.33363746e+09\n",
      "  -2.87887515e+09  1.23593336e+10 -4.44146818e+09 -1.24259821e+10\n",
      "  -2.87887515e+09  7.30295875e+09  1.42266287e+10  2.29680475e+10\n",
      "   4.23908807e+10  0.00000000e+00  1.32592433e+10  5.96331232e+09\n",
      "   8.21868896e+09  5.23775712e+10  5.75775030e+09  5.79919632e+10\n",
      "   1.21421386e+10  7.80957470e+09  1.27825977e+10  8.53674622e+09\n",
      "   4.24314553e+10  1.55930385e+10  1.15155006e+10  1.58744044e+10\n",
      "   2.87887515e+09  7.18026798e+09  5.49803270e+09  3.10649553e+09\n",
      "   0.00000000e+00  0.00000000e+00  2.87887515e+09 -1.15155006e+10\n",
      "  -1.15155006e+10  3.01708599e+10  3.10649553e+09  4.67017246e+10\n",
      "   1.19209659e+10  3.61385113e+10  7.80957470e+09  3.64256780e+10\n",
      "   5.75775030e+09  0.00000000e+00  6.21299106e+09  1.73652638e+10\n",
      "   3.09999295e+10  2.49869668e+10  2.87887515e+09 -5.75775030e+09\n",
      "   0.00000000e+00  7.18026798e+09  9.33191994e+09  0.00000000e+00\n",
      "   7.80957470e+09  0.00000000e+00  1.09105973e+10  1.45346928e+10\n",
      "   1.15155006e+10  4.56275853e+10  2.53710772e+10 -6.21299106e+09\n",
      "   8.74234218e+09 -5.75775030e+09  2.99379719e+10  1.89710487e+10\n",
      "   2.07920354e+10  1.99248474e+10 -3.10649553e+09  2.28912073e+10\n",
      "   7.20232593e+10  1.66367082e+10  2.87887515e+09  2.87887515e+09\n",
      "  -5.75775030e+09  2.17459536e+10  3.08586303e+10  0.00000000e+00\n",
      "  -1.56191494e+10  4.01133129e+10  5.44760307e+10  9.79608778e+09\n",
      "  -2.87887515e+09  2.55437195e+10  3.10649553e+09 -3.10649553e+09\n",
      "   1.25020229e+10  1.15155006e+10 -5.75775030e+09  0.00000000e+00\n",
      "   1.39116938e+10  1.88307947e+10  0.00000000e+00  9.04195174e+09\n",
      "  -7.80957470e+09  7.30295875e+09  3.09717231e+10 -2.87887515e+09\n",
      "   0.00000000e+00  1.77680345e+10  0.00000000e+00  1.95670532e+10\n",
      "   5.75775030e+09  1.15155006e+10  4.80804216e+09 -1.56191494e+10\n",
      "   2.09189668e+10  3.95931016e+10  2.72729675e+10  1.41015048e+10\n",
      "   1.38478413e+10 -1.15155006e+10  0.00000000e+00 -2.87887515e+09\n",
      "   0.00000000e+00  2.00573517e+10  4.20033342e+10  4.88255846e+10\n",
      "  -1.15155006e+10 -1.56191494e+10  1.13099372e+10  5.75775030e+09\n",
      "   3.05740040e+10 -7.80957470e+09  2.00132825e+10  4.74811008e+10\n",
      "   3.90478735e+09  2.86832764e+10  2.87887515e+09  2.68186506e+10\n",
      "   4.21703194e+09  6.79889963e+09  1.12312102e+10  3.12805458e+10\n",
      "  -5.75775030e+09  0.00000000e+00  6.66692231e+09 -2.87887515e+09\n",
      "  -1.56191494e+10 -3.12382988e+10 -1.77659444e+10  0.00000000e+00\n",
      "   3.62105269e+10 -7.80957470e+09  1.99691146e+10  2.08344331e+10\n",
      "   5.75775030e+09 -7.80957470e+09 -3.10649553e+09 -3.10649553e+09\n",
      "   1.48363143e+10  3.77188766e+09  1.04111009e+10 -2.87887515e+09\n",
      "   0.00000000e+00  1.50732329e+10 -8.88297219e+09  5.57755662e+09\n",
      "  -1.82972172e+10]]\n",
      "Правильность на контрольном наборе: 0.88\n",
      "Количество использованных признаков: 14\n",
      "[[-5.77062988e+00]\n",
      " [ 2.76556396e+00]\n",
      " [-6.37591553e+00]\n",
      " ...\n",
      " [ 1.26840820e+01]\n",
      " [-7.22536511e+11]\n",
      " [ 1.58209229e+00]]\n"
     ]
    }
   ],
   "source": [
    "from sklearn.linear_model import Ridge\n",
    "from sklearn.linear_model import Lasso\n",
    "\n",
    "ridge = Ridge(alpha=0.7).fit(X_train.head(1000), y_train.head(1000))\n",
    "\n",
    "print(\"Правильность на обучающем наборе: {:.2f}\".format(ridge.score(X_train, y_train))) # 0.72\n",
    "print(\"Правильность на тестовом наборе: {:.2f}\".format(ridge.score(X_test, y_test))) # 0.70\n",
    "\n",
    "lasso = Lasso().fit(X_train.head(1000), y_train.head(1000))\n",
    "\n",
    "print(\"Правильность на обучающем наборе: {:.2f}\".format(lasso.score(X_train, y_train))) # 0.88\n",
    "print(lr.coef_)\n",
    "print(\"Правильность на контрольном наборе: {:.2f}\".format(lasso.score(X_test, y_test))) # 0.88\n",
    "print(\"Количество использованных признаков: {}\".format(np.sum(lasso.coef_ != 0))) # 92\n",
    "predictCoef = lr.predict(X_test)\n",
    "print(predictCoef)"
   ]
  },
  {
   "cell_type": "markdown",
   "metadata": {},
   "source": [
    "### Градиентный спуск\n",
    "\n",
    "В предыдущем разделе мы использовали существующие реализации методов обучения линейной регрессии с регуляризацией и без. Тем не менее, подобные реализации, как правило, имеются лишь для ограниченного набора стандартных методов. В частности, при выходе функционала качества за пределы стандартного множества необходимо самостоятельно реализовывать составляющие процесса решения оптимизационной задачи. Именно этому и посвящен данный раздел задания.\n",
    "\n",
    "Пусть необходимо минимизировать следующий функционал (Mean Square Percentage Error — модифицированный [RMSPE](https://www.kaggle.com/c/rossmann-store-sales/details/evaluation)):\n",
    "$$MSPE(\\{x_i, y_i\\}_{i=1}^l, \\, w) = \\frac{1}{l}\\sum_{i=1}^l \\left( \\frac{y_i - \\langle w, x_i \\rangle }{y_i} \\right)^2,$$\n",
    "\n",
    "где $\\{x_i, y_i\\}_{i=1}^l$ — обучающая выборка, $w$ — вектор весов линейной модели. Будем также рассматривать функционал $MSPE$ с L2-регуляризацией:\n",
    "\n",
    "$$MSPE(\\{x_i, y_i\\}_{i=1}^l, \\, w) = \\frac{1}{l}\\sum_{i=1}^l \\left( \\frac{y_i - \\langle w, x_i \\rangle }{y_i} \\right)^2 + ||w||_2^2.$$\n",
    "\n",
    "**19. (0 баллов)** Добавьте к объектам обеих выборок из п. 16 единичный признак."
   ]
  },
  {
   "cell_type": "code",
   "execution_count": 70,
   "metadata": {},
   "outputs": [
    {
     "name": "stderr",
     "output_type": "stream",
     "text": [
      "D:\\anaconda3\\lib\\site-packages\\ipykernel_launcher.py:1: SettingWithCopyWarning: \n",
      "A value is trying to be set on a copy of a slice from a DataFrame.\n",
      "Try using .loc[row_indexer,col_indexer] = value instead\n",
      "\n",
      "See the caveats in the documentation: https://pandas.pydata.org/pandas-docs/stable/user_guide/indexing.html#returning-a-view-versus-a-copy\n",
      "  \"\"\"Entry point for launching an IPython kernel.\n",
      "D:\\anaconda3\\lib\\site-packages\\ipykernel_launcher.py:2: SettingWithCopyWarning: \n",
      "A value is trying to be set on a copy of a slice from a DataFrame.\n",
      "Try using .loc[row_indexer,col_indexer] = value instead\n",
      "\n",
      "See the caveats in the documentation: https://pandas.pydata.org/pandas-docs/stable/user_guide/indexing.html#returning-a-view-versus-a-copy\n",
      "  \n"
     ]
    }
   ],
   "source": [
    "X_train['X0']= 1\n",
    "X_test['X0'] = 1"
   ]
  },
  {
   "cell_type": "markdown",
   "metadata": {},
   "source": [
    "**20. (1 балл)** Реализуйте функции, которые вычисляют:\n",
    " * прогнозы линейной модели;\n",
    " * функционал $MSPE$ и его градиент;\n",
    " * регуляризованный $MSPE$ и его градиент."
   ]
  },
  {
   "cell_type": "code",
   "execution_count": 94,
   "metadata": {},
   "outputs": [],
   "source": [
    "import numpy as np\n",
    "# возвращает вектор прогнозов линейной модели с вектором весов w для выборки X\n",
    "def make_pred(X, w):\n",
    "    predicted = w.dot(X.T)\n",
    "    return predicted"
   ]
  },
  {
   "cell_type": "code",
   "execution_count": 95,
   "metadata": {},
   "outputs": [],
   "source": [
    "# возвращает значение функционала MSPE для выборки (X, y) и вектора весов w\n",
    "def get_func(w, X, y):\n",
    "    loss = np.mean(np.square(((y - (X * w.T)) / y)))\n",
    "    return loss"
   ]
  },
  {
   "cell_type": "code",
   "execution_count": 119,
   "metadata": {},
   "outputs": [],
   "source": [
    "# возвращает градиент функционала MSPE для выборки (X, y) и вектора весов w\n",
    "def get_grad(w, X, y):\n",
    "    return X * ((X * w) - y)"
   ]
  },
  {
   "cell_type": "code",
   "execution_count": 116,
   "metadata": {},
   "outputs": [],
   "source": [
    "# возвращает значение регуляризованного функционала MSPE для выборки (X, y) и вектора весов w\n",
    "def get_reg_func(w, X, y):\n",
    "    loss = np.mean(np.square(((y - (X * w.T)) / y)) + np.linalg.norm(w))\n",
    "    return loss"
   ]
  },
  {
   "cell_type": "code",
   "execution_count": 117,
   "metadata": {},
   "outputs": [],
   "source": [
    "# возвращает градиент регуляризованного функционала MSPE для выборки (X, y) и вектора весов w\n",
    "def get_reg_grad(w, X, y):\n",
    "    return X.T.dot(X.T.dot(w) - y)"
   ]
  },
  {
   "cell_type": "markdown",
   "metadata": {},
   "source": [
    "**21. (1 балл)** Реализуйте метод градиентного спуска для описанных функционалов ($MSPE$ и его регуляризованный вариант). Функция должна принимать следующие параметры:\n",
    " - X — матрица \"объект-признак\";\n",
    " - y — вектор целевой переменной;\n",
    " - w0 — начальное значение вектора весов;\n",
    " - step_size — значение темпа обучения;\n",
    " - max_iter — максимальное число итераций;\n",
    " - eps — значение, используемое в критерии останова;\n",
    " - is_reg — бинарный параметр, принимает значение True в случае наличия регуляризации функционала, False — в противном случае.\n",
    " \n",
    "Процесс должен быть остановлен, если выполнено хотя бы одно из следующих условий:\n",
    " - было выполнено заданное количество итераций max_iter;\n",
    " - евклидова норма разности векторов $w$ на соседних итерациях стала меньше, чем eps.\n",
    "\n",
    "Функция должна возвращать полученный в результате оптимизации вектор $w$ и список значений функционала на каждой итерации."
   ]
  },
  {
   "cell_type": "code",
   "execution_count": 112,
   "metadata": {},
   "outputs": [],
   "source": [
    "def grad_descent(X, y, max_iter, eps, is_reg):\n",
    "    theta = np.random.randn(np.size(y),1)\n",
    "    \n",
    "    for iteration in range(max_iter):\n",
    "        prevIter = theta\n",
    "        gradients = get_grad(theta.T, X, y)\n",
    "        theta = theta - eps * gradients      \n",
    "        if (np.linalg.norm(prevIter) - np.linalg.norm(theta)) < eps:\n",
    "            break\n",
    "    return theta"
   ]
  },
  {
   "cell_type": "markdown",
   "metadata": {},
   "source": [
    "Обучите линейную регрессию с функционалом $MSPE$ на обучающей выборке при помощи метода градиентного спуска и изобразите кривые зависимости значения функционала от номера итерации для различных:\n",
    " * значений размера шага из набора [0.001, 1, 10];\n",
    " * способов начальной инициализации вектора весов (нули, случайные веса).\n",
    "\n",
    "Проанализируйте полученные результаты — влияют ли данные параметры на скорость сходимости и итоговое качество? Если да, то как?"
   ]
  },
  {
   "cell_type": "code",
   "execution_count": 146,
   "metadata": {},
   "outputs": [
    {
     "name": "stdout",
     "output_type": "stream",
     "text": [
      "(47448, 626)\n",
      "(47448, 1)\n"
     ]
    },
    {
     "ename": "ValueError",
     "evalue": "Dot product shape mismatch, (47448, 626) vs (1, 47448)",
     "output_type": "error",
     "traceback": [
      "\u001b[1;31m---------------------------------------------------------------------------\u001b[0m",
      "\u001b[1;31mValueError\u001b[0m                                Traceback (most recent call last)",
      "\u001b[1;32m<ipython-input-146-a6c15e68be4a>\u001b[0m in \u001b[0;36m<module>\u001b[1;34m\u001b[0m\n\u001b[0;32m      5\u001b[0m \u001b[1;31m#print(w.shape)\u001b[0m\u001b[1;33m\u001b[0m\u001b[1;33m\u001b[0m\u001b[1;33m\u001b[0m\u001b[0m\n\u001b[0;32m      6\u001b[0m \u001b[1;33m\u001b[0m\u001b[0m\n\u001b[1;32m----> 7\u001b[1;33m \u001b[0mprint\u001b[0m\u001b[1;33m(\u001b[0m\u001b[0mX_train\u001b[0m\u001b[1;33m.\u001b[0m\u001b[0mdot\u001b[0m\u001b[1;33m(\u001b[0m\u001b[0mw\u001b[0m\u001b[1;33m.\u001b[0m\u001b[0mT\u001b[0m\u001b[1;33m)\u001b[0m\u001b[1;33m)\u001b[0m\u001b[1;33m\u001b[0m\u001b[1;33m\u001b[0m\u001b[0m\n\u001b[0m\u001b[0;32m      8\u001b[0m \u001b[1;33m\u001b[0m\u001b[0m\n\u001b[0;32m      9\u001b[0m \u001b[1;31m#grad_descent(X_train, y_train, 1000, 0.1, 0)\u001b[0m\u001b[1;33m\u001b[0m\u001b[1;33m\u001b[0m\u001b[1;33m\u001b[0m\u001b[0m\n",
      "\u001b[1;32mD:\\anaconda3\\lib\\site-packages\\pandas\\core\\frame.py\u001b[0m in \u001b[0;36mdot\u001b[1;34m(self, other)\u001b[0m\n\u001b[0;32m   1133\u001b[0m             \u001b[1;32mif\u001b[0m \u001b[0mlvals\u001b[0m\u001b[1;33m.\u001b[0m\u001b[0mshape\u001b[0m\u001b[1;33m[\u001b[0m\u001b[1;36m1\u001b[0m\u001b[1;33m]\u001b[0m \u001b[1;33m!=\u001b[0m \u001b[0mrvals\u001b[0m\u001b[1;33m.\u001b[0m\u001b[0mshape\u001b[0m\u001b[1;33m[\u001b[0m\u001b[1;36m0\u001b[0m\u001b[1;33m]\u001b[0m\u001b[1;33m:\u001b[0m\u001b[1;33m\u001b[0m\u001b[1;33m\u001b[0m\u001b[0m\n\u001b[0;32m   1134\u001b[0m                 raise ValueError(\n\u001b[1;32m-> 1135\u001b[1;33m                     \u001b[1;34mf\"Dot product shape mismatch, {lvals.shape} vs {rvals.shape}\"\u001b[0m\u001b[1;33m\u001b[0m\u001b[1;33m\u001b[0m\u001b[0m\n\u001b[0m\u001b[0;32m   1136\u001b[0m                 )\n\u001b[0;32m   1137\u001b[0m \u001b[1;33m\u001b[0m\u001b[0m\n",
      "\u001b[1;31mValueError\u001b[0m: Dot product shape mismatch, (47448, 626) vs (1, 47448)"
     ]
    }
   ],
   "source": [
    "print(X_train.shape)\n",
    "print(y_train.shape)\n",
    "\n",
    "w = np.random.rand(np.size(y_train),1)\n",
    "#print(w.shape)\n",
    "\n",
    "print(X_train.dot(w.T))\n",
    "\n",
    "#grad_descent(X_train, y_train, 1000, 0.1, 0)"
   ]
  },
  {
   "cell_type": "markdown",
   "metadata": {},
   "source": [
    "**22. (0.5 балла)** Обучите линейную регрессию с функционалом MSPE и его регуляризованным вариантом на обучающей выборке при помощи метода градиентного спуска и изобразите кривые зависимости значения функционала от номера итерации. Исследуйте зависимость скорости сходимости от наличия регуляризации. Обоснуйте, почему так происходит."
   ]
  },
  {
   "cell_type": "code",
   "execution_count": null,
   "metadata": {
    "collapsed": true
   },
   "outputs": [],
   "source": [
    "grad_descent(X_train, y, 1000, 0.1, 1)"
   ]
  },
  {
   "cell_type": "markdown",
   "metadata": {},
   "source": [
    "Метод градиентного спуска может быть весьма трудозатратен в случае большого размера обучающей выборки. Поэтому часто используют метод стохастического градиентного спуска, где на каждой итерации выбирается случайный объект из обучающей выборки и обновление весов происходит только по этому объекту. \n",
    "\n",
    "**23. (1 доп. балл)**  Реализуйте метод стохастического градиентного спуска (SGD) для описанных функционалов ($MSPE$ и его регуляризованный вариант). Функция должна иметь параметры и возвращаемое значение, аналогичные оным функции grad\\_descent из п.21. Кроме того, должен использоваться аналогичный критерий останова."
   ]
  },
  {
   "cell_type": "code",
   "execution_count": null,
   "metadata": {
    "collapsed": true
   },
   "outputs": [],
   "source": [
    "def sgd(X, y, max_iter, eps):\n",
    "    def learning_schedule(t):\n",
    "    return t0 / (t + tl)\n",
    "\n",
    "def sgd(X, y, w, step_size, max_iter, eps, is_reg):\n",
    "    theta = np.random.randn(np.size(y),1)\n",
    "    m = 100\n",
    "    for epoch in range(max_iter):\n",
    "        for i in range(m):\n",
    "            random_index = np.random.randint(m)\n",
    "            xi = X[random_index:random_index+1]\n",
    "            yi = y[random_index:random_index+1]\n",
    "            gradients = get_grad(theta, xi, yi)\n",
    "            step_size = learning_schedule(epoch * m + i)\n",
    "            theta = theta - step_size * gradients\n",
    "    return theta   "
   ]
  },
  {
   "cell_type": "markdown",
   "metadata": {},
   "source": [
    "Обучите линейную регрессию с функционалом $MSPE$ и его регуляризованным вариантом на обучающей выборке при помощи метода стохастического градиентного спуска, подобрав при этом размер шага, при котором метод будет сходиться. Нарисуйте график сходимости. Выведите значения $MSPE, MSE, R^2$ на контрольной выборке."
   ]
  },
  {
   "cell_type": "code",
   "execution_count": null,
   "metadata": {
    "collapsed": true
   },
   "outputs": [],
   "source": [
    "sgd(X_train, y, 1000, 0.1)"
   ]
  },
  {
   "cell_type": "markdown",
   "metadata": {},
   "source": [
    "**24. (0.5 доп. балла)** Аналогично п.22 исследуйте зависимость скорости сходимости метода SGD от наличия регуляризации. Обоснуйте, почему так происходит."
   ]
  },
  {
   "cell_type": "code",
   "execution_count": null,
   "metadata": {
    "collapsed": true
   },
   "outputs": [],
   "source": [
    "# Your code here"
   ]
  },
  {
   "cell_type": "markdown",
   "metadata": {},
   "source": [
    "**25. (0.5 балла)** Обучите стандартную линейную регрессию с функционалом качества MSE на обучающей выборке и выведите значение MSPE полученного решения на контрольной выборке. Как оно соотносится с аналогичным результатом для решения, полученного в п.22? Почему?"
   ]
  },
  {
   "cell_type": "code",
   "execution_count": null,
   "metadata": {
    "collapsed": true
   },
   "outputs": [],
   "source": [
    "lr = LinearRegression().fit(X_train, y)\n",
    "\n",
    "predict = lr.predict(X_train)\n",
    "MSE = mean_squared_error(y, predict)\n",
    "\n",
    "print(\"Среднеквадратическая ошибка:\", MSE)"
   ]
  },
  {
   "cell_type": "markdown",
   "metadata": {},
   "source": [
    "Здесь вы можете поделиться своими мыслями по поводу этого задания."
   ]
  },
  {
   "cell_type": "markdown",
   "metadata": {
    "collapsed": true
   },
   "source": [
    "Следующие книги будут отличным(минимально необходимым) материалом для понимания и успешного выполнения данной работы:\n",
    "- Траск Эндрю - Грокаем глубокое обучение https://www.ozon.ru/context/detail/id/155266079/;\n",
    "- Жерон Орельен - Прикладное машинное обучение с помощью Scikit-Learn и TensorFlow https://www.ozon.ru/context/detail/id/144106127/."
   ]
  },
  {
   "cell_type": "markdown",
   "metadata": {},
   "source": [
    "А здесь — вставить вашу любимую картинку."
   ]
  },
  {
   "cell_type": "markdown",
   "metadata": {
    "collapsed": true
   },
   "source": [
    "<img src = \"https://i.gifer.com/qFs.gif\">"
   ]
  }
 ],
 "metadata": {
  "kernelspec": {
   "display_name": "Python 3",
   "language": "python",
   "name": "python3"
  },
  "language_info": {
   "codemirror_mode": {
    "name": "ipython",
    "version": 3
   },
   "file_extension": ".py",
   "mimetype": "text/x-python",
   "name": "python",
   "nbconvert_exporter": "python",
   "pygments_lexer": "ipython3",
   "version": "3.7.6"
  }
 },
 "nbformat": 4,
 "nbformat_minor": 1
}
